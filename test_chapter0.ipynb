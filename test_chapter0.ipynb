{
 "cells": [
  {
   "cell_type": "markdown",
   "id": "8ef628e5-732c-43a4-85f7-3bd96ac5cb17",
   "metadata": {},
   "source": [
    "- jupyter notebook基本操作\n",
    "    - 命令模式：增(A,B)、删(DD)\n",
    "    - 运行代码：本行（ctrl+enter）,换到下一行（shift+enter）"
   ]
  },
  {
   "cell_type": "code",
   "execution_count": null,
   "id": "d6137577-4e9e-4f8e-a0df-ad1d4ed203e8",
   "metadata": {},
   "outputs": [],
   "source": []
  }
 ],
 "metadata": {
  "kernelspec": {
   "display_name": "opencv",
   "language": "python",
   "name": "opencv"
  },
  "language_info": {
   "codemirror_mode": {
    "name": "ipython",
    "version": 3
   },
   "file_extension": ".py",
   "mimetype": "text/x-python",
   "name": "python",
   "nbconvert_exporter": "python",
   "pygments_lexer": "ipython3",
   "version": "3.10.6"
  }
 },
 "nbformat": 4,
 "nbformat_minor": 5
}
